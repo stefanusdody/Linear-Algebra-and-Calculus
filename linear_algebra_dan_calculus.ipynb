{
 "cells": [
  {
   "cell_type": "markdown",
   "id": "2c69e85f",
   "metadata": {},
   "source": [
    "# Import Pustaka"
   ]
  },
  {
   "cell_type": "code",
   "execution_count": 1,
   "id": "d30b1177",
   "metadata": {},
   "outputs": [],
   "source": [
    "import numpy as np\n",
    "import sympy as sy\n",
    "import pandas as pd\n",
    "from scipy import integrate "
   ]
  },
  {
   "cell_type": "markdown",
   "id": "e66e2383",
   "metadata": {},
   "source": [
    "# Problems"
   ]
  },
  {
   "cell_type": "markdown",
   "id": "e0eca037",
   "metadata": {},
   "source": [
    "* Diketahui toko buah X menjual 10 produk dengan label nama A-J. Data penjualan serta pendapatan total toko X selalu dicatat setiap harinya dan berikut data penjualan 10 hari terakhir:\n",
    "| Hari ke- | A | B | C | D | E | F | G | H | I | J | Pendapatan |\n",
    "|:---------:|:---:|:---:|:---:|:---:|:---:|:---:|:---:|:---:|:---:|:---:|:------------:|\n",
    "|1|14|19|2|44|9|1|3|40|17|22|1402500|\n",
    "|2|7|26|26|24|54|2|2|4|22|18|2325000|\n",
    "|3|37|54|1|43|46|23|37|36|18|17|3307000|\n",
    "|4|19|19|45|41|43|21|38|51|56|37|4077000|\n",
    "|5|47|28|50|10|44|54|3|47|2|21|3998000|\n",
    "|6|12|41|31|25|44|13|16|9|47|3|2674500|\n",
    "|7|20|19|53|56|34|6|60|37|35|49|4014000|\n",
    "|8|60|44|1|16|9|24|55|55|30|10|2754500|\n",
    "|9|41|55|50|28|59|54|40|9|45|34|5511500|\n",
    "|10|14|11|39|2|26|17|51|19|38|39|3338500|"
   ]
  },
  {
   "cell_type": "markdown",
   "id": "7479241d",
   "metadata": {},
   "source": [
    "* Menggunakan konsep integral, tentukan luas negara Swiss jika diketahui koordinat batas-batasnya"
   ]
  },
  {
   "cell_type": "markdown",
   "id": "fe581099",
   "metadata": {},
   "source": [
    "# Sumber Dataset"
   ]
  },
  {
   "cell_type": "markdown",
   "id": "012ae4e2",
   "metadata": {},
   "source": [
    "Dataset koordinat batas Swiss dapat diakses pada link berikut: https://raw.githubusercontent.com/fahmimnalfrzki/Dataset/main/Swiss_boundaries.txt?token=AEZDEHXBTS7OMF32RTYPKZDA2FELA"
   ]
  },
  {
   "cell_type": "markdown",
   "id": "ac22874b",
   "metadata": {},
   "source": [
    "## Harga Masing-masing produk A - J"
   ]
  },
  {
   "cell_type": "markdown",
   "id": "62636fb9",
   "metadata": {},
   "source": [
    "#### Membuat Matrix"
   ]
  },
  {
   "cell_type": "code",
   "execution_count": 2,
   "id": "0c75f267",
   "metadata": {},
   "outputs": [
    {
     "data": {
      "text/latex": [
       "$\\displaystyle \\left[\\begin{array}{ccccccccccc}14 & 19 & 2 & 44 & 9 & 1 & 3 & 40 & 17 & 22 & 1402500\\\\7 & 26 & 26 & 24 & 54 & 2 & 2 & 4 & 22 & 18 & 2325000\\\\37 & 54 & 1 & 43 & 46 & 23 & 37 & 36 & 18 & 17 & 3307000\\\\19 & 19 & 45 & 41 & 43 & 21 & 38 & 51 & 56 & 37 & 4077000\\\\47 & 28 & 50 & 10 & 44 & 54 & 3 & 47 & 2 & 21 & 3998000\\\\12 & 41 & 31 & 25 & 44 & 13 & 16 & 9 & 47 & 3 & 2674500\\\\20 & 19 & 53 & 56 & 34 & 6 & 60 & 37 & 35 & 49 & 4014000\\\\60 & 44 & 1 & 16 & 9 & 24 & 55 & 55 & 30 & 10 & 2754500\\\\41 & 55 & 50 & 28 & 59 & 54 & 40 & 9 & 45 & 34 & 5511500\\\\14 & 11 & 39 & 2 & 26 & 17 & 51 & 19 & 38 & 39 & 3338500\\end{array}\\right]$"
      ],
      "text/plain": [
       "Matrix([\n",
       "[14, 19,  2, 44,  9,  1,  3, 40, 17, 22, 1402500],\n",
       "[ 7, 26, 26, 24, 54,  2,  2,  4, 22, 18, 2325000],\n",
       "[37, 54,  1, 43, 46, 23, 37, 36, 18, 17, 3307000],\n",
       "[19, 19, 45, 41, 43, 21, 38, 51, 56, 37, 4077000],\n",
       "[47, 28, 50, 10, 44, 54,  3, 47,  2, 21, 3998000],\n",
       "[12, 41, 31, 25, 44, 13, 16,  9, 47,  3, 2674500],\n",
       "[20, 19, 53, 56, 34,  6, 60, 37, 35, 49, 4014000],\n",
       "[60, 44,  1, 16,  9, 24, 55, 55, 30, 10, 2754500],\n",
       "[41, 55, 50, 28, 59, 54, 40,  9, 45, 34, 5511500],\n",
       "[14, 11, 39,  2, 26, 17, 51, 19, 38, 39, 3338500]])"
      ]
     },
     "execution_count": 2,
     "metadata": {},
     "output_type": "execute_result"
    }
   ],
   "source": [
    "A = np.array([ [14,19,2,44,9,1,3,40,17,22, 1402500],[7,26,26,24,54,2,2,4,22,18,2325000],[37,54,1,43,46,23,37,36,18,17,3307000],[19,19,45,41,43,21,38,51,56,37,4077000],[47,28,50,10,44,54,3,47,2,21,3998000],[12,41,31,25,44,13,16,9,47,3,2674500],[20,19,53,56,34,6,60,37,35,49,4014000],[60,44,1,16,9,24,55,55,30,10,2754500],[41,55,50,28,59,54,40,9,45,34,5511500],[14,11,39,2,26,17,51,19,38,39,3338500]])\n",
    "A = sy.Matrix(A)\n",
    "A"
   ]
  },
  {
   "cell_type": "markdown",
   "id": "3bd0a401",
   "metadata": {},
   "source": [
    "#### Melakukan Kombinasi Linear dengan Operasi Basis Elementer "
   ]
  },
  {
   "cell_type": "code",
   "execution_count": 3,
   "id": "b5bd6310",
   "metadata": {},
   "outputs": [
    {
     "data": {
      "text/plain": [
       "(Matrix([\n",
       " [1, 0, 0, 0, 0, 0, 0, 0, 0, 0,  5000],\n",
       " [0, 1, 0, 0, 0, 0, 0, 0, 0, 0, 11000],\n",
       " [0, 0, 1, 0, 0, 0, 0, 0, 0, 0, 12500],\n",
       " [0, 0, 0, 1, 0, 0, 0, 0, 0, 0,  3500],\n",
       " [0, 0, 0, 0, 1, 0, 0, 0, 0, 0, 17000],\n",
       " [0, 0, 0, 0, 0, 1, 0, 0, 0, 0, 26000],\n",
       " [0, 0, 0, 0, 0, 0, 1, 0, 0, 0, 10000],\n",
       " [0, 0, 0, 0, 0, 0, 0, 1, 0, 0,  2000],\n",
       " [0, 0, 0, 0, 0, 0, 0, 0, 1, 0,  7500],\n",
       " [0, 0, 0, 0, 0, 0, 0, 0, 0, 1, 24000]]),\n",
       " (0, 1, 2, 3, 4, 5, 6, 7, 8, 9))"
      ]
     },
     "execution_count": 3,
     "metadata": {},
     "output_type": "execute_result"
    }
   ],
   "source": [
    "A.rref()"
   ]
  },
  {
   "cell_type": "markdown",
   "id": "935a991d",
   "metadata": {},
   "source": [
    "Dari hasil kombinasi linear dapat diketahui harga masing-masing produk adalah:\n",
    "\n",
    "* Harga produk **A** adalah **Rp. 5000**,\n",
    "* Harga produk **B** adalah **Rp. 11000**,\n",
    "* Harga produk **C** adalah **Rp. 12500**,\n",
    "* Harga produk **D** adalah **Rp. 3500**,\n",
    "* Harga produk **E** adalah **Rp. 17000**,\n",
    "* Harga produk **F** adalah **Rp. 26000**,\n",
    "* Harga produk **G** adalah **Rp. 10000**,\n",
    "* Harga produk **H** adalah **Rp. 2000**,\n",
    "* Harga produk **I** adalah **Rp. 7500**,\n",
    "* Harga produk **J** adalah **Rp. 24000**"
   ]
  },
  {
   "cell_type": "markdown",
   "id": "633ddca9",
   "metadata": {},
   "source": [
    "menguji harga dengan memasukan harga masing - masing produk kedalam persamaan pertama "
   ]
  },
  {
   "cell_type": "code",
   "execution_count": 4,
   "id": "084cec17",
   "metadata": {},
   "outputs": [
    {
     "data": {
      "text/plain": [
       "1402500"
      ]
     },
     "execution_count": 4,
     "metadata": {},
     "output_type": "execute_result"
    }
   ],
   "source": [
    "14*5000 + 19*11000 + 2*12500 + 44* 3500 + 9*17000 + 1*26000+ 3*10000 + 40*2000 + 17*7500 + 22*24000"
   ]
  },
  {
   "cell_type": "markdown",
   "id": "43d854a1",
   "metadata": {},
   "source": [
    "## Menentukan Luas Negara Swiss"
   ]
  },
  {
   "cell_type": "markdown",
   "id": "c4962af3",
   "metadata": {},
   "source": [
    "#### Melakukan Data Loading "
   ]
  },
  {
   "cell_type": "code",
   "execution_count": 5,
   "id": "dbb84349",
   "metadata": {},
   "outputs": [],
   "source": [
    "df = pd.read_csv('https://raw.githubusercontent.com/fahmimnalfrzki/Dataset/main/Swiss_boundaries.txt?token=AEZDEHXBTS7OMF32RTYPKZDA2FELA')"
   ]
  },
  {
   "cell_type": "markdown",
   "id": "09ac7745",
   "metadata": {},
   "source": [
    "#### Menampilkan dataset"
   ]
  },
  {
   "cell_type": "code",
   "execution_count": 6,
   "id": "50beb524",
   "metadata": {},
   "outputs": [
    {
     "data": {
      "text/html": [
       "<div>\n",
       "<style scoped>\n",
       "    .dataframe tbody tr th:only-of-type {\n",
       "        vertical-align: middle;\n",
       "    }\n",
       "\n",
       "    .dataframe tbody tr th {\n",
       "        vertical-align: top;\n",
       "    }\n",
       "\n",
       "    .dataframe thead th {\n",
       "        text-align: right;\n",
       "    }\n",
       "</style>\n",
       "<table border=\"1\" class=\"dataframe\">\n",
       "  <thead>\n",
       "    <tr style=\"text-align: right;\">\n",
       "      <th></th>\n",
       "      <th>longitude</th>\n",
       "      <th>latitude</th>\n",
       "    </tr>\n",
       "  </thead>\n",
       "  <tbody>\n",
       "    <tr>\n",
       "      <th>0</th>\n",
       "      <td>9.56672</td>\n",
       "      <td>47.54045</td>\n",
       "    </tr>\n",
       "    <tr>\n",
       "      <th>1</th>\n",
       "      <td>9.55980</td>\n",
       "      <td>47.50209</td>\n",
       "    </tr>\n",
       "    <tr>\n",
       "      <th>2</th>\n",
       "      <td>9.59660</td>\n",
       "      <td>47.46944</td>\n",
       "    </tr>\n",
       "    <tr>\n",
       "      <th>3</th>\n",
       "      <td>9.64965</td>\n",
       "      <td>47.45861</td>\n",
       "    </tr>\n",
       "    <tr>\n",
       "      <th>4</th>\n",
       "      <td>9.67035</td>\n",
       "      <td>47.39069</td>\n",
       "    </tr>\n",
       "    <tr>\n",
       "      <th>...</th>\n",
       "      <td>...</td>\n",
       "      <td>...</td>\n",
       "    </tr>\n",
       "    <tr>\n",
       "      <th>273</th>\n",
       "      <td>9.03333</td>\n",
       "      <td>47.68833</td>\n",
       "    </tr>\n",
       "    <tr>\n",
       "      <th>274</th>\n",
       "      <td>9.08264</td>\n",
       "      <td>47.68541</td>\n",
       "    </tr>\n",
       "    <tr>\n",
       "      <th>275</th>\n",
       "      <td>9.26110</td>\n",
       "      <td>47.66284</td>\n",
       "    </tr>\n",
       "    <tr>\n",
       "      <th>276</th>\n",
       "      <td>9.47832</td>\n",
       "      <td>47.57585</td>\n",
       "    </tr>\n",
       "    <tr>\n",
       "      <th>277</th>\n",
       "      <td>9.56672</td>\n",
       "      <td>47.54045</td>\n",
       "    </tr>\n",
       "  </tbody>\n",
       "</table>\n",
       "<p>278 rows × 2 columns</p>\n",
       "</div>"
      ],
      "text/plain": [
       "     longitude  latitude\n",
       "0      9.56672  47.54045\n",
       "1      9.55980  47.50209\n",
       "2      9.59660  47.46944\n",
       "3      9.64965  47.45861\n",
       "4      9.67035  47.39069\n",
       "..         ...       ...\n",
       "273    9.03333  47.68833\n",
       "274    9.08264  47.68541\n",
       "275    9.26110  47.66284\n",
       "276    9.47832  47.57585\n",
       "277    9.56672  47.54045\n",
       "\n",
       "[278 rows x 2 columns]"
      ]
     },
     "execution_count": 6,
     "metadata": {},
     "output_type": "execute_result"
    }
   ],
   "source": [
    "df"
   ]
  },
  {
   "cell_type": "markdown",
   "id": "64e4ff95",
   "metadata": {},
   "source": [
    "#### Menampilkan info dataset"
   ]
  },
  {
   "cell_type": "code",
   "execution_count": 7,
   "id": "d621f9ab",
   "metadata": {},
   "outputs": [
    {
     "name": "stdout",
     "output_type": "stream",
     "text": [
      "<class 'pandas.core.frame.DataFrame'>\n",
      "RangeIndex: 278 entries, 0 to 277\n",
      "Data columns (total 2 columns):\n",
      " #   Column     Non-Null Count  Dtype  \n",
      "---  ------     --------------  -----  \n",
      " 0   longitude  278 non-null    float64\n",
      " 1   latitude   278 non-null    float64\n",
      "dtypes: float64(2)\n",
      "memory usage: 4.5 KB\n"
     ]
    }
   ],
   "source": [
    "df.info()"
   ]
  },
  {
   "cell_type": "markdown",
   "id": "673b05da",
   "metadata": {},
   "source": [
    "Keterangan :"
   ]
  },
  {
   "cell_type": "markdown",
   "id": "054ebb57",
   "metadata": {},
   "source": [
    "* sumbu **x** merupakan **latitude**\n",
    "* sumbu **y** merupakan **longitude**"
   ]
  },
  {
   "cell_type": "markdown",
   "id": "1a548a7f",
   "metadata": {},
   "source": [
    "#### Mencari titik x tertinggi"
   ]
  },
  {
   "cell_type": "code",
   "execution_count": 8,
   "id": "c4ceb594",
   "metadata": {},
   "outputs": [
    {
     "data": {
      "text/plain": [
       "47.80666000000008"
      ]
     },
     "execution_count": 8,
     "metadata": {},
     "output_type": "execute_result"
    }
   ],
   "source": [
    "y_max = df['latitude'].max()\n",
    "y_max"
   ]
  },
  {
   "cell_type": "markdown",
   "id": "c15f8c50",
   "metadata": {},
   "source": [
    "titik x tertinggi negara swiss adalah **47.80666000000008 latitude**"
   ]
  },
  {
   "cell_type": "markdown",
   "id": "f90bcac0",
   "metadata": {},
   "source": [
    "#### Mencari titik x terendah"
   ]
  },
  {
   "cell_type": "code",
   "execution_count": 9,
   "id": "6a3d1bb7",
   "metadata": {},
   "outputs": [
    {
     "data": {
      "text/plain": [
       "45.82944000000003"
      ]
     },
     "execution_count": 9,
     "metadata": {},
     "output_type": "execute_result"
    }
   ],
   "source": [
    "y_min = df['latitude'].min()\n",
    "y_min"
   ]
  },
  {
   "cell_type": "markdown",
   "id": "a9033912",
   "metadata": {},
   "source": [
    "titik x terendah negara swiss adalah **45.82944000000003 latitude**"
   ]
  },
  {
   "cell_type": "markdown",
   "id": "31c54e3e",
   "metadata": {},
   "source": [
    "#### Mencari titik y tertinggi"
   ]
  },
  {
   "cell_type": "code",
   "execution_count": 10,
   "id": "85046cc6",
   "metadata": {},
   "outputs": [
    {
     "data": {
      "text/plain": [
       "10.488210000000038"
      ]
     },
     "execution_count": 10,
     "metadata": {},
     "output_type": "execute_result"
    }
   ],
   "source": [
    "x_max = df['longitude'].max()\n",
    "x_max "
   ]
  },
  {
   "cell_type": "markdown",
   "id": "ea903f83",
   "metadata": {},
   "source": [
    "titik y tertinggi negara swiss adalah **10.488210000000038 longitude**"
   ]
  },
  {
   "cell_type": "markdown",
   "id": "108fc630",
   "metadata": {},
   "source": [
    "#### Mencari titik y terendah"
   ]
  },
  {
   "cell_type": "code",
   "execution_count": 11,
   "id": "9c90834f",
   "metadata": {},
   "outputs": [
    {
     "data": {
      "text/plain": [
       "5.967010000000073"
      ]
     },
     "execution_count": 11,
     "metadata": {},
     "output_type": "execute_result"
    }
   ],
   "source": [
    "x_min = df['longitude'].min()\n",
    "x_min"
   ]
  },
  {
   "cell_type": "markdown",
   "id": "57a421e7",
   "metadata": {},
   "source": [
    "titik y terendah negara swiss adalah **5.967010000000073 longitude**"
   ]
  },
  {
   "cell_type": "markdown",
   "id": "158f0914",
   "metadata": {},
   "source": [
    "#### Rentang Panjang negara swiss"
   ]
  },
  {
   "cell_type": "markdown",
   "id": "6b0782cc",
   "metadata": {},
   "source": [
    "45.82944000000003 - 47.80666000000008 latitude"
   ]
  },
  {
   "cell_type": "markdown",
   "id": "c27e9e7c",
   "metadata": {},
   "source": [
    "#### Rentang Panjang dan Fungsi North Swiss"
   ]
  },
  {
   "cell_type": "code",
   "execution_count": 12,
   "id": "fcccdadf",
   "metadata": {},
   "outputs": [],
   "source": [
    "x = np.linspace(45.82944000000003, 47.80666000000008)\n",
    "f_north = 10.488210000000038*x "
   ]
  },
  {
   "cell_type": "markdown",
   "id": "fe836d86",
   "metadata": {},
   "source": [
    "#### Integral North Swiss"
   ]
  },
  {
   "cell_type": "code",
   "execution_count": 13,
   "id": "74eaf8a3",
   "metadata": {},
   "outputs": [
    {
     "data": {
      "text/plain": [
       "970.8892452154909"
      ]
     },
     "execution_count": 13,
     "metadata": {},
     "output_type": "execute_result"
    }
   ],
   "source": [
    "luas_north = integrate.trapz(f_north, x)\n",
    "luas_north"
   ]
  },
  {
   "cell_type": "markdown",
   "id": "76eab3e2",
   "metadata": {},
   "source": [
    "Integral north swiss adalah **970.8892452154909**"
   ]
  },
  {
   "cell_type": "markdown",
   "id": "2048b279",
   "metadata": {},
   "source": [
    "#### Rentang Panjang dan Fungsi South Swiss"
   ]
  },
  {
   "cell_type": "code",
   "execution_count": 14,
   "id": "cb258256",
   "metadata": {},
   "outputs": [],
   "source": [
    "x = np.linspace(45.82944000000003, 47.80666000000008)\n",
    "f_south = 5.967010000000073*x"
   ]
  },
  {
   "cell_type": "markdown",
   "id": "44293a6e",
   "metadata": {},
   "source": [
    "#### Integral South Swiss"
   ]
  },
  {
   "cell_type": "code",
   "execution_count": 15,
   "id": "1f61d101",
   "metadata": {},
   "outputs": [
    {
     "data": {
      "text/plain": [
       "552.3636383227772"
      ]
     },
     "execution_count": 15,
     "metadata": {},
     "output_type": "execute_result"
    }
   ],
   "source": [
    "luas_south = integrate.trapz(f_south,x)\n",
    "luas_south"
   ]
  },
  {
   "cell_type": "markdown",
   "id": "264f3250",
   "metadata": {},
   "source": [
    "Integral south swiss adalah **552.3636383227772**"
   ]
  },
  {
   "cell_type": "markdown",
   "id": "fc7d3e40",
   "metadata": {},
   "source": [
    "## Luas Negara Swiss"
   ]
  },
  {
   "cell_type": "code",
   "execution_count": 16,
   "id": "2426198a",
   "metadata": {},
   "outputs": [
    {
     "data": {
      "text/plain": [
       "418.52560689271365"
      ]
     },
     "execution_count": 16,
     "metadata": {},
     "output_type": "execute_result"
    }
   ],
   "source": [
    "luas_swiss = luas_north - luas_south\n",
    "luas_swiss"
   ]
  },
  {
   "cell_type": "markdown",
   "id": "6ca7d183",
   "metadata": {},
   "source": [
    "Luas negara swiss secara keseluruhan adalah **418.52560689271365**"
   ]
  }
 ],
 "metadata": {
  "kernelspec": {
   "display_name": "Python 3",
   "language": "python",
   "name": "python3"
  },
  "language_info": {
   "codemirror_mode": {
    "name": "ipython",
    "version": 3
   },
   "file_extension": ".py",
   "mimetype": "text/x-python",
   "name": "python",
   "nbconvert_exporter": "python",
   "pygments_lexer": "ipython3",
   "version": "3.8.5"
  }
 },
 "nbformat": 4,
 "nbformat_minor": 5
}
